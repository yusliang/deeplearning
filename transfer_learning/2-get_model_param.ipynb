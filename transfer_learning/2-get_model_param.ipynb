{
 "cells": [
  {
   "cell_type": "markdown",
   "metadata": {},
   "source": [
    "#### 读取模型中的参数"
   ]
  },
  {
   "cell_type": "markdown",
   "metadata": {},
   "source": [
    "创建一个模型"
   ]
  },
  {
   "cell_type": "code",
   "execution_count": 1,
   "metadata": {},
   "outputs": [
    {
     "name": "stdout",
     "output_type": "stream",
     "text": [
      "MyModel(\n",
      "  (layer1): Sequential(\n",
      "    (0): Linear(in_features=3, out_features=4, bias=True)\n",
      "    (1): Linear(in_features=4, out_features=3, bias=True)\n",
      "  )\n",
      "  (layer2): Linear(in_features=3, out_features=6, bias=True)\n",
      "  (layer3): Sequential(\n",
      "    (0): Linear(in_features=6, out_features=7, bias=True)\n",
      "    (1): Linear(in_features=7, out_features=5, bias=True)\n",
      "  )\n",
      ")\n"
     ]
    }
   ],
   "source": [
    "import torch\n",
    "\n",
    "\n",
    "class MyModel(torch.nn.Module):\n",
    "    def __init__(self):\n",
    "        super().__init__()\n",
    "        self.layer1 = torch.nn.Sequential(\n",
    "            torch.nn.Linear(3, 4),\n",
    "            torch.nn.Linear(4, 3),\n",
    "        )\n",
    "        self.layer2 = torch.nn.Linear(3, 6)\n",
    "\n",
    "        self.layer3 = torch.nn.Sequential(\n",
    "            torch.nn.Linear(6, 7),\n",
    "            torch.nn.Linear(7, 5),\n",
    "        )\n",
    "\n",
    "    def forward(self, x):\n",
    "        x = self.layer1(x)\n",
    "        x = self.layer2(x)\n",
    "        x = self.layer3(x)\n",
    "        return x\n",
    "\n",
    "\n",
    "net = MyModel()\n",
    "print(net)\n",
    "\n",
    "\n",
    "\n"
   ]
  },
  {
   "cell_type": "markdown",
   "metadata": {},
   "source": [
    "递归获取每一个模块"
   ]
  },
  {
   "cell_type": "code",
   "execution_count": 13,
   "metadata": {},
   "outputs": [
    {
     "name": "stdout",
     "output_type": "stream",
     "text": [
      "不带名字\n",
      "0  ->  <class '__main__.MyModel'>\n",
      "1  ->  <class 'torch.nn.modules.container.Sequential'>\n",
      "2  ->  <class 'torch.nn.modules.linear.Linear'>\n",
      "3  ->  <class 'torch.nn.modules.linear.Linear'>\n",
      "4  ->  <class 'torch.nn.modules.linear.Linear'>\n",
      "5  ->  <class 'torch.nn.modules.container.Sequential'>\n",
      "6  ->  <class 'torch.nn.modules.linear.Linear'>\n",
      "7  ->  <class 'torch.nn.modules.linear.Linear'>\n",
      "带名字\n",
      "0  ->   <class '__main__.MyModel'>\n",
      "1  ->  layer1 <class 'torch.nn.modules.container.Sequential'>\n",
      "2  ->  layer1.0 <class 'torch.nn.modules.linear.Linear'>\n",
      "3  ->  layer1.1 <class 'torch.nn.modules.linear.Linear'>\n",
      "4  ->  layer2 <class 'torch.nn.modules.linear.Linear'>\n",
      "5  ->  layer3 <class 'torch.nn.modules.container.Sequential'>\n",
      "6  ->  layer3.0 <class 'torch.nn.modules.linear.Linear'>\n",
      "7  ->  layer3.1 <class 'torch.nn.modules.linear.Linear'>\n"
     ]
    }
   ],
   "source": [
    "\n",
    "# -----------------------------------------------------------\n",
    "# net.modules()、   net.named_modules()\n",
    "# -----------------------------------------------------------\n",
    "print(\"不带名字\")\n",
    "for i, layer in enumerate(net.modules()):\n",
    "    print(i, \" -> \", type(layer))\n",
    "\n",
    "print(\"带名字\")\n",
    "i = 0\n",
    "for name, layer in net.named_modules():\n",
    "    print(i, \" -> \", name, type(layer))\n",
    "    i += 1"
   ]
  },
  {
   "cell_type": "markdown",
   "metadata": {},
   "source": [
    "只打印树的第一层节点"
   ]
  },
  {
   "cell_type": "code",
   "execution_count": 15,
   "metadata": {},
   "outputs": [
    {
     "name": "stdout",
     "output_type": "stream",
     "text": [
      "不带名字\n",
      "Sequential(\n",
      "  (0): Linear(in_features=3, out_features=4, bias=True)\n",
      "  (1): Linear(in_features=4, out_features=3, bias=True)\n",
      ")\n",
      "Linear(in_features=3, out_features=6, bias=True)\n",
      "Sequential(\n",
      "  (0): Linear(in_features=6, out_features=7, bias=True)\n",
      "  (1): Linear(in_features=7, out_features=5, bias=True)\n",
      ")\n",
      "带名字\n",
      "layer1 Sequential(\n",
      "  (0): Linear(in_features=3, out_features=4, bias=True)\n",
      "  (1): Linear(in_features=4, out_features=3, bias=True)\n",
      ")\n",
      "layer2 Linear(in_features=3, out_features=6, bias=True)\n",
      "layer3 Sequential(\n",
      "  (0): Linear(in_features=6, out_features=7, bias=True)\n",
      "  (1): Linear(in_features=7, out_features=5, bias=True)\n",
      ")\n"
     ]
    }
   ],
   "source": [
    "\n",
    "# -----------------------------------------------------------\n",
    "# net.children()、   net.named_children()\n",
    "# -----------------------------------------------------------\n",
    "print(\"不带名字\")\n",
    "for layer in net.children():\n",
    "    print(layer)\n",
    "\n",
    "print(\"带名字\")\n",
    "for name, layer in net.named_children():\n",
    "    print(name, layer)"
   ]
  },
  {
   "cell_type": "markdown",
   "metadata": {},
   "source": [
    "获取参数"
   ]
  },
  {
   "cell_type": "code",
   "execution_count": 18,
   "metadata": {},
   "outputs": [
    {
     "name": "stdout",
     "output_type": "stream",
     "text": [
      "不带名字\n",
      "torch.Size([4, 3])\n",
      "torch.Size([4])\n",
      "torch.Size([3, 4])\n",
      "torch.Size([3])\n",
      "torch.Size([6, 3])\n",
      "torch.Size([6])\n",
      "torch.Size([7, 6])\n",
      "torch.Size([7])\n",
      "torch.Size([5, 7])\n",
      "torch.Size([5])\n",
      "带名字\n",
      "layer1.0.weight torch.Size([4, 3])\n",
      "layer1.0.bias torch.Size([4])\n",
      "layer1.1.weight torch.Size([3, 4])\n",
      "layer1.1.bias torch.Size([3])\n",
      "layer2.weight torch.Size([6, 3])\n",
      "layer2.bias torch.Size([6])\n",
      "layer3.0.weight torch.Size([7, 6])\n",
      "layer3.0.bias torch.Size([7])\n",
      "layer3.1.weight torch.Size([5, 7])\n",
      "layer3.1.bias torch.Size([5])\n",
      "也是带名字\n",
      "layer1.0.weight torch.Size([4, 3])\n",
      "layer1.0.bias torch.Size([4])\n",
      "layer1.1.weight torch.Size([3, 4])\n",
      "layer1.1.bias torch.Size([3])\n",
      "layer2.weight torch.Size([6, 3])\n",
      "layer2.bias torch.Size([6])\n",
      "layer3.0.weight torch.Size([7, 6])\n",
      "layer3.0.bias torch.Size([7])\n",
      "layer3.1.weight torch.Size([5, 7])\n",
      "layer3.1.bias torch.Size([5])\n"
     ]
    }
   ],
   "source": [
    "\n",
    "# -----------------------------------------------------------\n",
    "# net.parameters()、   net.named_parameters()\n",
    "# -----------------------------------------------------------\n",
    "print(\"不带名字\")\n",
    "for param in net.parameters():\n",
    "    print(param.shape)\n",
    "\n",
    "print(\"带名字\")\n",
    "for name, param in net.named_parameters():\n",
    "    print(name, param.shape)\n",
    "\n",
    "# -----------------------------------------------------------\n",
    "# net.state_dict()\n",
    "# -----------------------------------------------------------\n",
    "print(\"也是带名字\")\n",
    "for key, value in net.state_dict().items():\n",
    "    print(key, value.shape)"
   ]
  }
 ],
 "metadata": {
  "kernelspec": {
   "display_name": "ml",
   "language": "python",
   "name": "python3"
  },
  "language_info": {
   "codemirror_mode": {
    "name": "ipython",
    "version": 3
   },
   "file_extension": ".py",
   "mimetype": "text/x-python",
   "name": "python",
   "nbconvert_exporter": "python",
   "pygments_lexer": "ipython3",
   "version": "3.10.11"
  },
  "orig_nbformat": 4
 },
 "nbformat": 4,
 "nbformat_minor": 2
}
