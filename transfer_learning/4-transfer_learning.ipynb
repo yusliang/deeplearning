{
 "cells": [
  {
   "cell_type": "markdown",
   "metadata": {},
   "source": [
    "##### 迁移学习\n",
    "迁移resnet前面的层到yolo v1上，并在训练的时候冻结这些迁移层，只训练后面的参数。\n",
    "参考首图：https://www.bilibili.com/video/BV1X8411f7q1?p=5&vd_source=842a80530b9c27d739c5a4a55b99e922"
   ]
  },
  {
   "cell_type": "code",
   "execution_count": 1,
   "metadata": {},
   "outputs": [
    {
     "name": "stdout",
     "output_type": "stream",
     "text": [
      "layer5.0.conv1.weight\n",
      "layer5.0.bn1.weight\n",
      "layer5.0.bn1.bias\n",
      "layer5.0.conv2.weight\n",
      "layer5.0.bn2.weight\n",
      "layer5.0.bn2.bias\n",
      "layer5.0.conv3.weight\n",
      "layer5.0.bn3.weight\n",
      "layer5.0.bn3.bias\n",
      "layer5.0.downsample.0.weight\n",
      "layer5.0.downsample.1.weight\n",
      "layer5.0.downsample.1.bias\n",
      "layer5.1.conv1.weight\n",
      "layer5.1.bn1.weight\n",
      "layer5.1.bn1.bias\n",
      "layer5.1.conv2.weight\n",
      "layer5.1.bn2.weight\n",
      "layer5.1.bn2.bias\n",
      "layer5.1.conv3.weight\n",
      "layer5.1.bn3.weight\n",
      "layer5.1.bn3.bias\n",
      "layer5.2.conv1.weight\n",
      "layer5.2.bn1.weight\n",
      "layer5.2.bn1.bias\n",
      "layer5.2.conv2.weight\n",
      "layer5.2.bn2.weight\n",
      "layer5.2.bn2.bias\n",
      "layer5.2.conv3.weight\n",
      "layer5.2.bn3.weight\n",
      "layer5.2.bn3.bias\n",
      "conv_end.weight\n",
      "bn_end.weight\n",
      "bn_end.bias\n"
     ]
    }
   ],
   "source": [
    "from torchvision import models\n",
    "import torch\n",
    "from torchsummary import summary\n",
    "from resnet import resnet50\n",
    "\n",
    "\n",
    "# ------------------------------------------------------------\n",
    "#  任务一 ：\n",
    "#  1、将模型A 作为backbone，修改为 模型B\n",
    "#  2、模型A的预训练参数 加载到 模型B上\n",
    "# ------------------------------------------------------------\n",
    "\n",
    "resnet_modified = resnet50()\n",
    "new_weights_dict = resnet_modified.state_dict()\n",
    "\n",
    "resnet = models.resnet50(weights=models.ResNet50_Weights.DEFAULT)\n",
    "weights_dict = resnet.state_dict()\n",
    "\n",
    "for k in weights_dict.keys():\n",
    "    if k in new_weights_dict.keys() and not k.startswith('fc'):\n",
    "        new_weights_dict[k] = weights_dict[k]\n",
    "resnet_modified.load_state_dict(new_weights_dict)\n",
    "# resnet_modified.load_state_dict(new_weights_dict, strict=False)\n",
    "\n",
    "\n",
    "# --------------------------------------------------\n",
    "#  任务二：\n",
    "#  冻结与训练好的参数\n",
    "# --------------------------------------------------\n",
    "params = []\n",
    "train_layer = ['layer5', 'conv_end', 'bn_end']\n",
    "for name, param in resnet_modified.named_parameters():\n",
    "    if any(name.startswith(prefix) for prefix in train_layer):\n",
    "        print(name)\n",
    "        params.append(param)\n",
    "    else:\n",
    "        param.requires_grad = False\n",
    "\n",
    "optimizer = torch.optim.SGD(params, lr=0.001, momentum=0.9, weight_decay=5e-4)"
   ]
  }
 ],
 "metadata": {
  "kernelspec": {
   "display_name": "ml",
   "language": "python",
   "name": "python3"
  },
  "language_info": {
   "codemirror_mode": {
    "name": "ipython",
    "version": 3
   },
   "file_extension": ".py",
   "mimetype": "text/x-python",
   "name": "python",
   "nbconvert_exporter": "python",
   "pygments_lexer": "ipython3",
   "version": "3.10.11"
  },
  "orig_nbformat": 4
 },
 "nbformat": 4,
 "nbformat_minor": 2
}
